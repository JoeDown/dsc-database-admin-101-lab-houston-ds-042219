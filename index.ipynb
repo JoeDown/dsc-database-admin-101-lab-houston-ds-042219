{
 "cells": [
  {
   "cell_type": "markdown",
   "metadata": {},
   "source": [
    "# Database Admin 101 - Lab\n",
    "\n",
    "## Introduction \n",
    "\n",
    "In this lab you'll go through the process of designing and creating a database. From there, you'll also begin to populate this table with mock data provided to you.\n",
    "\n",
    "## Objectives\n",
    "\n",
    "You will be able to:\n",
    "\n",
    "* Create a SQL database\n",
    "* Create a SQL table\n",
    "* Create rows in a SQL table\n",
    "* Alter entries in a SQL table\n",
    "* Delete entries in a SQL table\n",
    "* Commit changes via sqlite3\n"
   ]
  },
  {
   "cell_type": "markdown",
   "metadata": {},
   "source": [
    "## The Scenario\n",
    "\n",
    "You are looking to design a database for a school which will house various information from student grades to contact information, class roster lists and attendance. First, think of how you would design such a database and record some of your ideas below."
   ]
  },
  {
   "cell_type": "markdown",
   "metadata": {},
   "source": [
    "# Your Answer Here\n",
    "\n",
    "Record some information here about how you would design such a database. What table would you include? What columns would each table have? What would be the primary means to join said tables?"
   ]
  },
  {
   "cell_type": "markdown",
   "metadata": {},
   "source": [
    "## Creating the Database\n",
    "\n",
    "Now that you've put a little thought into how you might design your database, it's time to go ahead and create it! Start by import the necessary packages. Then, create a database called **school.sqlite**."
   ]
  },
  {
   "cell_type": "code",
   "execution_count": 98,
   "metadata": {},
   "outputs": [],
   "source": [
    "import sqlite3 \n"
   ]
  },
  {
   "cell_type": "code",
   "execution_count": 99,
   "metadata": {},
   "outputs": [],
   "source": [
    "conn = sqlite3.connect('school3.sqlite')\n",
    "cur = conn.cursor()"
   ]
  },
  {
   "cell_type": "markdown",
   "metadata": {},
   "source": [
    "## Create a Table for Contact Information\n",
    "\n",
    "Create a table called contactInfo to house contact information for both students and staff. Be sure to include columns for first name, last name, role (student/staff), email, telephone number, street, city, state and zipcode. Be sure to also create a primary key for the table. "
   ]
  },
  {
   "cell_type": "code",
   "execution_count": 100,
   "metadata": {},
   "outputs": [
    {
     "data": {
      "text/plain": [
       "<sqlite3.Cursor at 0x7f3ee06c9f10>"
      ]
     },
     "execution_count": 100,
     "metadata": {},
     "output_type": "execute_result"
    }
   ],
   "source": [
    "cur.execute(\"\"\"CREATE TABLE contactInfo (\n",
    "                                    id INTEGER PRIMARY KEY,\n",
    "                                    firstName TEXT,\n",
    "                                    lastName TEXT,\n",
    "                                    role TEXT,\n",
    "                                    email TEXT,\n",
    "                                    telephone INTEGER,\n",
    "                                    street TEXT,\n",
    "                                    city TEXT,\n",
    "                                    state TEXT,\n",
    "                                    zipcode INTEGER\n",
    "                                 )\n",
    "            \"\"\"\n",
    "           )"
   ]
  },
  {
   "cell_type": "code",
   "execution_count": 96,
   "metadata": {},
   "outputs": [
    {
     "ename": "OperationalError",
     "evalue": "database is locked",
     "output_type": "error",
     "traceback": [
      "\u001b[0;31m\u001b[0m",
      "\u001b[0;31mOperationalError\u001b[0mTraceback (most recent call last)",
      "\u001b[0;32m<ipython-input-96-bcfbb5a50d03>\u001b[0m in \u001b[0;36m<module>\u001b[0;34m()\u001b[0m\n\u001b[0;32m----> 1\u001b[0;31m \u001b[0mcur\u001b[0m\u001b[0;34m.\u001b[0m\u001b[0mexecute\u001b[0m\u001b[0;34m(\u001b[0m\u001b[0;34m\"\"\"DROP TABLE contactInfo\"\"\"\u001b[0m\u001b[0;34m)\u001b[0m\u001b[0;34m\u001b[0m\u001b[0m\n\u001b[0m",
      "\u001b[0;31mOperationalError\u001b[0m: database is locked"
     ]
    }
   ],
   "source": [
    "cur.execute(\"\"\"DROP TABLE contactInfo\"\"\")"
   ]
  },
  {
   "cell_type": "code",
   "execution_count": 70,
   "metadata": {},
   "outputs": [
    {
     "ename": "TypeError",
     "evalue": "'NoneType' object is not iterable",
     "output_type": "error",
     "traceback": [
      "\u001b[0;31m\u001b[0m",
      "\u001b[0;31mTypeError\u001b[0mTraceback (most recent call last)",
      "\u001b[0;32m<ipython-input-70-d054d513d780>\u001b[0m in \u001b[0;36m<module>\u001b[0;34m()\u001b[0m\n\u001b[0;32m----> 1\u001b[0;31m \u001b[0mnames\u001b[0m \u001b[0;34m=\u001b[0m \u001b[0;34m[\u001b[0m\u001b[0mdescription\u001b[0m\u001b[0;34m[\u001b[0m\u001b[0;36m0\u001b[0m\u001b[0;34m]\u001b[0m \u001b[0;32mfor\u001b[0m \u001b[0mdescription\u001b[0m \u001b[0;32min\u001b[0m \u001b[0mcur\u001b[0m\u001b[0;34m.\u001b[0m\u001b[0mdescription\u001b[0m\u001b[0;34m]\u001b[0m\u001b[0;34m\u001b[0m\u001b[0m\n\u001b[0m",
      "\u001b[0;31mTypeError\u001b[0m: 'NoneType' object is not iterable"
     ]
    }
   ],
   "source": [
    "names = [description[0] for description in cur.description]"
   ]
  },
  {
   "cell_type": "code",
   "execution_count": 81,
   "metadata": {
    "scrolled": true
   },
   "outputs": [],
   "source": [
    "column_names = list(map(lambda x: x[0], cur.description))"
   ]
  },
  {
   "cell_type": "code",
   "execution_count": 82,
   "metadata": {},
   "outputs": [
    {
     "data": {
      "text/plain": [
       "['id',\n",
       " 'firstName',\n",
       " 'lastName',\n",
       " 'role',\n",
       " 'email',\n",
       " 'telephone',\n",
       " 'address',\n",
       " 'city',\n",
       " 'state',\n",
       " 'zipcode']"
      ]
     },
     "execution_count": 82,
     "metadata": {},
     "output_type": "execute_result"
    }
   ],
   "source": [
    "names"
   ]
  },
  {
   "cell_type": "code",
   "execution_count": 62,
   "metadata": {},
   "outputs": [
    {
     "name": "stdout",
     "output_type": "stream",
     "text": [
      "[]\n"
     ]
    }
   ],
   "source": [
    "print([column[0] for column in cur.fetchall()])"
   ]
  },
  {
   "cell_type": "code",
   "execution_count": 80,
   "metadata": {},
   "outputs": [
    {
     "name": "stdout",
     "output_type": "stream",
     "text": [
      "(('id', None, None, None, None, None, None), ('firstName', None, None, None, None, None, None), ('lastName', None, None, None, None, None, None), ('role', None, None, None, None, None, None), ('email', None, None, None, None, None, None), ('telephone', None, None, None, None, None, None), ('address', None, None, None, None, None, None), ('city', None, None, None, None, None, None), ('state', None, None, None, None, None, None), ('zipcode', None, None, None, None, None, None))\n"
     ]
    }
   ],
   "source": [
    "cur.execute(\"SELECT * FROM contactInfo\")\n",
    "print(cur.description)"
   ]
  },
  {
   "cell_type": "code",
   "execution_count": 65,
   "metadata": {},
   "outputs": [
    {
     "data": {
      "text/plain": [
       "<sqlite3.Cursor at 0x7f3ee071e500>"
      ]
     },
     "execution_count": 65,
     "metadata": {},
     "output_type": "execute_result"
    }
   ],
   "source": [
    "cur.execute(\"ALTER TABLE contactInfo ADD 'telephone' INTEGER\")"
   ]
  },
  {
   "cell_type": "markdown",
   "metadata": {},
   "source": [
    "## Populate the Table\n",
    "\n",
    "Below, code is provided for you in order to load a list of dictionaries. Briefly examine the list. Each dictionary in the list will serve as an entry for your contact info table. Once you've briefly investigated the structure of this data, write a for loop to iterate through the list and create an entry in your table for each person's contact info."
   ]
  },
  {
   "cell_type": "code",
   "execution_count": 41,
   "metadata": {},
   "outputs": [],
   "source": [
    "# Code to load the list of dictionaries; just run this cell\n",
    "\n",
    "import pickle\n",
    "\n",
    "with open('contact_list.pickle', 'rb') as f:\n",
    "    contacts = pickle.load(f)"
   ]
  },
  {
   "cell_type": "code",
   "execution_count": 42,
   "metadata": {},
   "outputs": [
    {
     "name": "stdout",
     "output_type": "stream",
     "text": [
      "[{'firstName': 'Christine', 'lastName': 'Holden', 'role': 'staff', 'telephone ': 2035687697, 'street': '1672 Whitman Court', 'city': 'Stamford', 'state': 'CT', 'zipcode ': '06995'}, {'firstName': 'Christopher', 'lastName': 'Warren', 'role': 'student', 'telephone ': 2175150957, 'street': '1935 University Hill Road', 'city': 'Champaign', 'state': 'IL', 'zipcode ': '61938'}, {'firstName': 'Linda', 'lastName': 'Jacobson', 'role': 'staff', 'telephone ': 4049446441, 'street': '479 Musgrave Street', 'city': 'Atlanta', 'state': 'GA', 'zipcode ': '30303'}, {'firstName': 'Andrew', 'lastName': 'Stepp', 'role': 'student', 'telephone ': 7866419252, 'street': '2981 Lamberts Branch Road', 'city': 'Hialeah', 'state': 'Fl', 'zipcode ': '33012'}, {'firstName': 'Jane', 'lastName': 'Evans', 'role': 'student', 'telephone ': 3259909290, 'street': '1461 Briarhill Lane', 'city': 'Abilene', 'state': 'TX', 'zipcode ': '79602'}, {'firstName': 'Jane', 'lastName': 'Evans', 'role': 'student', 'telephone ': 3259909290, 'street': '1461 Briarhill Lane', 'city': 'Abilene', 'state': 'TX', 'zipcode ': '79602'}, {'firstName': 'Mary', 'lastName': 'Raines', 'role': 'student', 'telephone ': 9075772295, 'street': '3975 Jerry Toth Drive', 'city': 'Ninilchik', 'state': 'AK', 'zipcode ': '99639'}, {'firstName': 'Ed', 'lastName': 'Lyman', 'role': 'student', 'telephone ': 5179695576, 'street': '3478 Be Sreet', 'city': 'Lansing', 'state': 'MI', 'zipcode ': '48933'}]\n"
     ]
    }
   ],
   "source": [
    "# Your code to iterate over the contact list and populate the contactInfo table here\n",
    "\n",
    "\n",
    "print(contacts)\n",
    "# for contact in contacts\n",
    "#     for key in contacts.keys()\n",
    "#         if key = 'telephone '\n",
    "#             contacts['telephone'] = contacts[0].pop('telephone ')\n",
    "#         if key = 'zipcode '\n",
    "#             contacts\n"
   ]
  },
  {
   "cell_type": "code",
   "execution_count": 10,
   "metadata": {},
   "outputs": [],
   "source": [
    "import string\n",
    "holding_list = list(string.ascii_lowercase)"
   ]
  },
  {
   "cell_type": "code",
   "execution_count": 11,
   "metadata": {},
   "outputs": [],
   "source": [
    "foo=[0]*6"
   ]
  },
  {
   "cell_type": "code",
   "execution_count": 12,
   "metadata": {},
   "outputs": [],
   "source": [
    "del holding_list[len(foo):]"
   ]
  },
  {
   "cell_type": "code",
   "execution_count": 13,
   "metadata": {},
   "outputs": [
    {
     "data": {
      "text/plain": [
       "['a', 'b', 'c', 'd', 'e', 'f']"
      ]
     },
     "execution_count": 13,
     "metadata": {},
     "output_type": "execute_result"
    }
   ],
   "source": [
    "holding_list "
   ]
  },
  {
   "cell_type": "code",
   "execution_count": 14,
   "metadata": {},
   "outputs": [
    {
     "data": {
      "text/plain": [
       "['a', 'b', 'c', 'd', 'e', 'f']"
      ]
     },
     "execution_count": 14,
     "metadata": {},
     "output_type": "execute_result"
    }
   ],
   "source": [
    "[x for x in holding_list]"
   ]
  },
  {
   "cell_type": "code",
   "execution_count": 101,
   "metadata": {},
   "outputs": [
    {
     "name": "stdout",
     "output_type": "stream",
     "text": [
      "The holding list is length 8\n",
      "['Christine', 'Holden', 'staff', 2035687697, '1672 Whitman Court', 'Stamford', 'CT', '06995']\n",
      "The current dictionary is : \n",
      "\n",
      "\n",
      "{'firstName': 'Christine', 'lastName': 'Holden', 'role': 'staff', 'telephone ': 2035687697, 'street': '1672 Whitman Court', 'city': 'Stamford', 'state': 'CT', 'zipcode ': '06995'}\n",
      "The holding list is length 8\n",
      "['Christopher', 'Warren', 'student', 2175150957, '1935 University Hill Road', 'Champaign', 'IL', '61938']\n",
      "The current dictionary is : \n",
      "\n",
      "\n",
      "{'firstName': 'Christopher', 'lastName': 'Warren', 'role': 'student', 'telephone ': 2175150957, 'street': '1935 University Hill Road', 'city': 'Champaign', 'state': 'IL', 'zipcode ': '61938'}\n",
      "The holding list is length 8\n",
      "['Linda', 'Jacobson', 'staff', 4049446441, '479 Musgrave Street', 'Atlanta', 'GA', '30303']\n",
      "The current dictionary is : \n",
      "\n",
      "\n",
      "{'firstName': 'Linda', 'lastName': 'Jacobson', 'role': 'staff', 'telephone ': 4049446441, 'street': '479 Musgrave Street', 'city': 'Atlanta', 'state': 'GA', 'zipcode ': '30303'}\n",
      "The holding list is length 8\n",
      "['Andrew', 'Stepp', 'student', 7866419252, '2981 Lamberts Branch Road', 'Hialeah', 'Fl', '33012']\n",
      "The current dictionary is : \n",
      "\n",
      "\n",
      "{'firstName': 'Andrew', 'lastName': 'Stepp', 'role': 'student', 'telephone ': 7866419252, 'street': '2981 Lamberts Branch Road', 'city': 'Hialeah', 'state': 'Fl', 'zipcode ': '33012'}\n",
      "The holding list is length 8\n",
      "['Jane', 'Evans', 'student', 3259909290, '1461 Briarhill Lane', 'Abilene', 'TX', '79602']\n",
      "The current dictionary is : \n",
      "\n",
      "\n",
      "{'firstName': 'Jane', 'lastName': 'Evans', 'role': 'student', 'telephone ': 3259909290, 'street': '1461 Briarhill Lane', 'city': 'Abilene', 'state': 'TX', 'zipcode ': '79602'}\n",
      "The holding list is length 8\n",
      "['Jane', 'Evans', 'student', 3259909290, '1461 Briarhill Lane', 'Abilene', 'TX', '79602']\n",
      "The current dictionary is : \n",
      "\n",
      "\n",
      "{'firstName': 'Jane', 'lastName': 'Evans', 'role': 'student', 'telephone ': 3259909290, 'street': '1461 Briarhill Lane', 'city': 'Abilene', 'state': 'TX', 'zipcode ': '79602'}\n",
      "The holding list is length 8\n",
      "['Mary', 'Raines', 'student', 9075772295, '3975 Jerry Toth Drive', 'Ninilchik', 'AK', '99639']\n",
      "The current dictionary is : \n",
      "\n",
      "\n",
      "{'firstName': 'Mary', 'lastName': 'Raines', 'role': 'student', 'telephone ': 9075772295, 'street': '3975 Jerry Toth Drive', 'city': 'Ninilchik', 'state': 'AK', 'zipcode ': '99639'}\n",
      "The holding list is length 8\n",
      "['Ed', 'Lyman', 'student', 5179695576, '3478 Be Sreet', 'Lansing', 'MI', '48933']\n",
      "The current dictionary is : \n",
      "\n",
      "\n",
      "{'firstName': 'Ed', 'lastName': 'Lyman', 'role': 'student', 'telephone ': 5179695576, 'street': '3478 Be Sreet', 'city': 'Lansing', 'state': 'MI', 'zipcode ': '48933'}\n"
     ]
    }
   ],
   "source": [
    "for index, _dict in enumerate(contacts):\n",
    "    \n",
    "    holding_list = []\n",
    "    #holds a list values for one line of the database\n",
    "    \n",
    "    for item in _dict.keys():\n",
    "            holding_list.append(_dict[item])\n",
    "                \n",
    "    print(f'The holding list is length {str(len(holding_list))}')\n",
    "    print([x for x in holding_list])\n",
    "    print('The current dictionary is : \\n\\n')\n",
    "    print(_dict)\n",
    "        \n",
    "    cur.execute('''INSERT INTO contactInfo (id, firstName, lastName, role, email, telephone, street, city, state, zipcode) \n",
    "\n",
    "              VALUES ('{}','{}','{}','{}','{}','{}','{}','{}','{}','{}');\n",
    "        '''.format((index+1), holding_list[0], holding_list[1], holding_list[2],f'{holding_list[0]}.{holding_list[1]}@em.com', holding_list[3], holding_list[4],\n",
    "                    holding_list[5], holding_list[6], holding_list[7])\n",
    "       )"
   ]
  },
  {
   "cell_type": "code",
   "execution_count": 104,
   "metadata": {},
   "outputs": [],
   "source": [
    "import pandas as pd"
   ]
  },
  {
   "cell_type": "code",
   "execution_count": 105,
   "metadata": {},
   "outputs": [],
   "source": [
    "df = pd.read_sql_query('''Select * from contactInfo''', conn)"
   ]
  },
  {
   "cell_type": "code",
   "execution_count": 121,
   "metadata": {
    "scrolled": true
   },
   "outputs": [
    {
     "data": {
      "text/plain": [
       "0    False\n",
       "1    False\n",
       "2    False\n",
       "3    False\n",
       "4    False\n",
       "5     True\n",
       "6    False\n",
       "7    False\n",
       "Name: firstName, dtype: bool"
      ]
     },
     "execution_count": 121,
     "metadata": {},
     "output_type": "execute_result"
    }
   ],
   "source": [
    "df.firstName.duplicated()"
   ]
  },
  {
   "cell_type": "code",
   "execution_count": 122,
   "metadata": {},
   "outputs": [
    {
     "data": {
      "text/html": [
       "<div>\n",
       "<style scoped>\n",
       "    .dataframe tbody tr th:only-of-type {\n",
       "        vertical-align: middle;\n",
       "    }\n",
       "\n",
       "    .dataframe tbody tr th {\n",
       "        vertical-align: top;\n",
       "    }\n",
       "\n",
       "    .dataframe thead th {\n",
       "        text-align: right;\n",
       "    }\n",
       "</style>\n",
       "<table border=\"1\" class=\"dataframe\">\n",
       "  <thead>\n",
       "    <tr style=\"text-align: right;\">\n",
       "      <th></th>\n",
       "      <th>id</th>\n",
       "      <th>firstName</th>\n",
       "      <th>lastName</th>\n",
       "      <th>role</th>\n",
       "      <th>email</th>\n",
       "      <th>telephone</th>\n",
       "      <th>street</th>\n",
       "      <th>city</th>\n",
       "      <th>state</th>\n",
       "      <th>zipcode</th>\n",
       "    </tr>\n",
       "  </thead>\n",
       "  <tbody>\n",
       "    <tr>\n",
       "      <th>0</th>\n",
       "      <td>1</td>\n",
       "      <td>Christine</td>\n",
       "      <td>Holden</td>\n",
       "      <td>staff</td>\n",
       "      <td>Christine.Holden@em.com</td>\n",
       "      <td>2035687697</td>\n",
       "      <td>1672 Whitman Court</td>\n",
       "      <td>Stamford</td>\n",
       "      <td>CT</td>\n",
       "      <td>6995</td>\n",
       "    </tr>\n",
       "    <tr>\n",
       "      <th>1</th>\n",
       "      <td>2</td>\n",
       "      <td>Christopher</td>\n",
       "      <td>Warren</td>\n",
       "      <td>student</td>\n",
       "      <td>Christopher.Warren@em.com</td>\n",
       "      <td>2175150957</td>\n",
       "      <td>1935 University Hill Road</td>\n",
       "      <td>Champaign</td>\n",
       "      <td>IL</td>\n",
       "      <td>61938</td>\n",
       "    </tr>\n",
       "    <tr>\n",
       "      <th>2</th>\n",
       "      <td>3</td>\n",
       "      <td>Linda</td>\n",
       "      <td>Jacobson</td>\n",
       "      <td>staff</td>\n",
       "      <td>Linda.Jacobson@em.com</td>\n",
       "      <td>4049446441</td>\n",
       "      <td>479 Musgrave Street</td>\n",
       "      <td>Atlanta</td>\n",
       "      <td>GA</td>\n",
       "      <td>30303</td>\n",
       "    </tr>\n",
       "    <tr>\n",
       "      <th>3</th>\n",
       "      <td>4</td>\n",
       "      <td>Andrew</td>\n",
       "      <td>Stepp</td>\n",
       "      <td>student</td>\n",
       "      <td>Andrew.Stepp@em.com</td>\n",
       "      <td>7866419252</td>\n",
       "      <td>2981 Lamberts Branch Road</td>\n",
       "      <td>Hialeah</td>\n",
       "      <td>Fl</td>\n",
       "      <td>33012</td>\n",
       "    </tr>\n",
       "    <tr>\n",
       "      <th>4</th>\n",
       "      <td>5</td>\n",
       "      <td>Jane</td>\n",
       "      <td>Evans</td>\n",
       "      <td>student</td>\n",
       "      <td>Jane.Evans@em.com</td>\n",
       "      <td>3259909290</td>\n",
       "      <td>1461 Briarhill Lane</td>\n",
       "      <td>Abilene</td>\n",
       "      <td>TX</td>\n",
       "      <td>79602</td>\n",
       "    </tr>\n",
       "    <tr>\n",
       "      <th>5</th>\n",
       "      <td>6</td>\n",
       "      <td>Jane</td>\n",
       "      <td>Evans</td>\n",
       "      <td>student</td>\n",
       "      <td>Jane.Evans@em.com</td>\n",
       "      <td>3259909290</td>\n",
       "      <td>1461 Briarhill Lane</td>\n",
       "      <td>Abilene</td>\n",
       "      <td>TX</td>\n",
       "      <td>79602</td>\n",
       "    </tr>\n",
       "    <tr>\n",
       "      <th>6</th>\n",
       "      <td>7</td>\n",
       "      <td>Mary</td>\n",
       "      <td>Raines</td>\n",
       "      <td>student</td>\n",
       "      <td>Mary.Raines@em.com</td>\n",
       "      <td>9075772295</td>\n",
       "      <td>3975 Jerry Toth Drive</td>\n",
       "      <td>Ninilchik</td>\n",
       "      <td>AK</td>\n",
       "      <td>99639</td>\n",
       "    </tr>\n",
       "    <tr>\n",
       "      <th>7</th>\n",
       "      <td>8</td>\n",
       "      <td>Ed</td>\n",
       "      <td>Lyman</td>\n",
       "      <td>student</td>\n",
       "      <td>Ed.Lyman@em.com</td>\n",
       "      <td>5179695576</td>\n",
       "      <td>3478 Be Sreet</td>\n",
       "      <td>Lansing</td>\n",
       "      <td>MI</td>\n",
       "      <td>48933</td>\n",
       "    </tr>\n",
       "  </tbody>\n",
       "</table>\n",
       "</div>"
      ],
      "text/plain": [
       "   id    firstName  lastName     role                      email   telephone  \\\n",
       "0   1    Christine    Holden    staff    Christine.Holden@em.com  2035687697   \n",
       "1   2  Christopher    Warren  student  Christopher.Warren@em.com  2175150957   \n",
       "2   3        Linda  Jacobson    staff      Linda.Jacobson@em.com  4049446441   \n",
       "3   4       Andrew     Stepp  student        Andrew.Stepp@em.com  7866419252   \n",
       "4   5         Jane     Evans  student          Jane.Evans@em.com  3259909290   \n",
       "5   6         Jane     Evans  student          Jane.Evans@em.com  3259909290   \n",
       "6   7         Mary    Raines  student         Mary.Raines@em.com  9075772295   \n",
       "7   8           Ed     Lyman  student            Ed.Lyman@em.com  5179695576   \n",
       "\n",
       "                      street       city state  zipcode  \n",
       "0         1672 Whitman Court   Stamford    CT     6995  \n",
       "1  1935 University Hill Road  Champaign    IL    61938  \n",
       "2        479 Musgrave Street    Atlanta    GA    30303  \n",
       "3  2981 Lamberts Branch Road    Hialeah    Fl    33012  \n",
       "4        1461 Briarhill Lane    Abilene    TX    79602  \n",
       "5        1461 Briarhill Lane    Abilene    TX    79602  \n",
       "6      3975 Jerry Toth Drive  Ninilchik    AK    99639  \n",
       "7              3478 Be Sreet    Lansing    MI    48933  "
      ]
     },
     "execution_count": 122,
     "metadata": {},
     "output_type": "execute_result"
    }
   ],
   "source": [
    "df"
   ]
  },
  {
   "cell_type": "code",
   "execution_count": 111,
   "metadata": {},
   "outputs": [
    {
     "data": {
      "text/plain": [
       "[(1,\n",
       "  'Christine',\n",
       "  'Holden',\n",
       "  'staff',\n",
       "  'Christine.Holden@em.com',\n",
       "  2035687697,\n",
       "  '1672 Whitman Court',\n",
       "  'Stamford',\n",
       "  'CT',\n",
       "  6995),\n",
       " (2,\n",
       "  'Christopher',\n",
       "  'Warren',\n",
       "  'student',\n",
       "  'Christopher.Warren@em.com',\n",
       "  2175150957,\n",
       "  '1935 University Hill Road',\n",
       "  'Champaign',\n",
       "  'IL',\n",
       "  61938),\n",
       " (3,\n",
       "  'Linda',\n",
       "  'Jacobson',\n",
       "  'staff',\n",
       "  'Linda.Jacobson@em.com',\n",
       "  4049446441,\n",
       "  '479 Musgrave Street',\n",
       "  'Atlanta',\n",
       "  'GA',\n",
       "  30303),\n",
       " (4,\n",
       "  'Andrew',\n",
       "  'Stepp',\n",
       "  'student',\n",
       "  'Andrew.Stepp@em.com',\n",
       "  7866419252,\n",
       "  '2981 Lamberts Branch Road',\n",
       "  'Hialeah',\n",
       "  'Fl',\n",
       "  33012),\n",
       " (5,\n",
       "  'Jane',\n",
       "  'Evans',\n",
       "  'student',\n",
       "  'Jane.Evans@em.com',\n",
       "  3259909290,\n",
       "  '1461 Briarhill Lane',\n",
       "  'Abilene',\n",
       "  'TX',\n",
       "  79602),\n",
       " (6,\n",
       "  'Jane',\n",
       "  'Evans',\n",
       "  'student',\n",
       "  'Jane.Evans@em.com',\n",
       "  3259909290,\n",
       "  '1461 Briarhill Lane',\n",
       "  'Abilene',\n",
       "  'TX',\n",
       "  79602),\n",
       " (7,\n",
       "  'Mary',\n",
       "  'Raines',\n",
       "  'student',\n",
       "  'Mary.Raines@em.com',\n",
       "  9075772295,\n",
       "  '3975 Jerry Toth Drive',\n",
       "  'Ninilchik',\n",
       "  'AK',\n",
       "  99639),\n",
       " (8,\n",
       "  'Ed',\n",
       "  'Lyman',\n",
       "  'student',\n",
       "  'Ed.Lyman@em.com',\n",
       "  5179695576,\n",
       "  '3478 Be Sreet',\n",
       "  'Lansing',\n",
       "  'MI',\n",
       "  48933)]"
      ]
     },
     "execution_count": 111,
     "metadata": {},
     "output_type": "execute_result"
    }
   ],
   "source": [
    "# Query the Table to Ensure it is populated\n",
    "#cur.execute('''Select * from contactInfo''').fetchall()\n",
    "conn2 = sqlite3.connect('school3.sqlite')\n",
    "cur2 = conn2.cursor()\n",
    "cur2.execute(\"\"\"select * from contactInfo;\"\"\").fetchall()"
   ]
  },
  {
   "cell_type": "code",
   "execution_count": 110,
   "metadata": {},
   "outputs": [],
   "source": [
    "conn.commit()"
   ]
  },
  {
   "cell_type": "code",
   "execution_count": null,
   "metadata": {},
   "outputs": [],
   "source": [
    "cur.execute(\"\"\"CREATE TABLE contactInfo (\n",
    "                                    id INTEGER PRIMARY KEY,\n",
    "                                    firstName TEXT,\n",
    "                                    lastName TEXT,\n",
    "                                    role TEXT,\n",
    "                                    email TEXT,\n",
    "                                    telephone INTEGER,\n",
    "                                    street TEXT,\n",
    "                                    city TEXT,\n",
    "                                    state TEXT,\n",
    "                                    zipcode INTEGER\n",
    "                                 )\n",
    "            \"\"\"\n",
    "           )"
   ]
  },
  {
   "cell_type": "markdown",
   "metadata": {},
   "source": [
    "## Create a Table for Student Grades\n",
    "\n",
    "Create a new table in the database called \"grades\". In the table, include the following fields: userId, courseId, grade.\n",
    "\n",
    "** This problem is a bit more tricky and will require a dual key. (A nuance you have yet to see.)\n",
    "Here's how to do that:\n",
    "\n",
    "```SQL\n",
    "CREATE TABLE table_name(\n",
    "   column_1 INTEGER NOT NULL,\n",
    "   column_2 INTEGER NOT NULL,\n",
    "   ...\n",
    "   PRIMARY KEY(column_1,column_2,...)\n",
    ");\n",
    "```"
   ]
  },
  {
   "cell_type": "code",
   "execution_count": 113,
   "metadata": {},
   "outputs": [
    {
     "data": {
      "text/plain": [
       "<sqlite3.Cursor at 0x7f3ee06c9f10>"
      ]
     },
     "execution_count": 113,
     "metadata": {},
     "output_type": "execute_result"
    }
   ],
   "source": [
    "cur.execute('''CREATE TABLE grades(\n",
    "                    userID INTEGER NOT NULL,\n",
    "                    courseID INTEGER NOT NULL,\n",
    "                    grade INTEGER,\n",
    "                    PRIMARY KEY(userID, courseID)\n",
    "            )''')"
   ]
  },
  {
   "cell_type": "code",
   "execution_count": null,
   "metadata": {},
   "outputs": [],
   "source": []
  },
  {
   "cell_type": "markdown",
   "metadata": {},
   "source": [
    "## Remove Duplicate Entries\n",
    "\n",
    "An analyst just realized that there is a duplicate entry in the contactInfo table! Find and remove it."
   ]
  },
  {
   "cell_type": "code",
   "execution_count": 131,
   "metadata": {},
   "outputs": [
    {
     "data": {
      "text/plain": [
       "[('Andrew', 'Stepp', 4, 1),\n",
       " ('Christine', 'Holden', 1, 1),\n",
       " ('Christopher', 'Warren', 2, 1),\n",
       " ('Ed', 'Lyman', 8, 1),\n",
       " ('Jane', 'Evans', 5, 1),\n",
       " ('Linda', 'Jacobson', 3, 1),\n",
       " ('Mary', 'Raines', 7, 1)]"
      ]
     },
     "execution_count": 131,
     "metadata": {},
     "output_type": "execute_result"
    }
   ],
   "source": [
    "#Your code here; find the duplicate entry\n",
    "\n",
    "cur.execute('''SELECT firstName, lastName, id, count(*) FROM contactInfo group by firstName, lastName''').fetchall()"
   ]
  },
  {
   "cell_type": "code",
   "execution_count": 130,
   "metadata": {},
   "outputs": [
    {
     "data": {
      "text/plain": [
       "<sqlite3.Cursor at 0x7f3ee06c9f10>"
      ]
     },
     "execution_count": 130,
     "metadata": {},
     "output_type": "execute_result"
    }
   ],
   "source": [
    "#Your code here; delete the duplicate entry\n",
    "\n",
    "cur.execute('''DELETE from contactInfo where id = 6''')"
   ]
  },
  {
   "cell_type": "markdown",
   "metadata": {},
   "source": [
    "## Updating an Address\n",
    "\n",
    "Ed Lyman just moved to 2910 Simpson Avenue York, PA 17403. Update his address accordingly."
   ]
  },
  {
   "cell_type": "code",
   "execution_count": 132,
   "metadata": {},
   "outputs": [
    {
     "data": {
      "text/plain": [
       "['firstName', 'lastName', 'id', 'count(*)']"
      ]
     },
     "execution_count": 132,
     "metadata": {},
     "output_type": "execute_result"
    }
   ],
   "source": [
    "column_names = list(map(lambda x: x[0], cur.description))\n",
    "column_names"
   ]
  },
  {
   "cell_type": "code",
   "execution_count": null,
   "metadata": {},
   "outputs": [],
   "source": [
    "cur.execute('''UPDATE contactInfo \n",
    "                  SET  = [new value]\n",
    "                  WHERE [column name] = [value];\n",
    "               '''\n",
    "              )"
   ]
  },
  {
   "cell_type": "markdown",
   "metadata": {},
   "source": [
    "## Commit Your Changes to the Database\n",
    "\n",
    "Once again, persist your changes by committing them to the database."
   ]
  },
  {
   "cell_type": "code",
   "execution_count": null,
   "metadata": {},
   "outputs": [],
   "source": [
    "#Your code here"
   ]
  },
  {
   "cell_type": "markdown",
   "metadata": {},
   "source": [
    "## Summary\n",
    "\n",
    "While there's certainly more to do with setting up and managing this database, you certainly got a taste for creating, populating and maintaining databases! Feel free to continue fleshing out this exercise to continue practicing. "
   ]
  }
 ],
 "metadata": {
  "kernelspec": {
   "display_name": "Python 3",
   "language": "python",
   "name": "python3"
  },
  "language_info": {
   "codemirror_mode": {
    "name": "ipython",
    "version": 3
   },
   "file_extension": ".py",
   "mimetype": "text/x-python",
   "name": "python",
   "nbconvert_exporter": "python",
   "pygments_lexer": "ipython3",
   "version": "3.6.6"
  }
 },
 "nbformat": 4,
 "nbformat_minor": 2
}
